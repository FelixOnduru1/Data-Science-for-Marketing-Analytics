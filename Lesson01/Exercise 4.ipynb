{
 "metadata": {
  "language_info": {
   "codemirror_mode": {
    "name": "ipython",
    "version": 3
   },
   "file_extension": ".py",
   "mimetype": "text/x-python",
   "name": "python",
   "nbconvert_exporter": "python",
   "pygments_lexer": "ipython3",
   "version": "3.8.3"
  },
  "orig_nbformat": 2,
  "kernelspec": {
   "name": "python383jvsc74a57bd0e917a4b3bc59454222998dadc1067c6757b7bd5a39902ace700b84d0d6b4826a",
   "display_name": "Python 3.8.3 64-bit ('base': conda)"
  }
 },
 "nbformat": 4,
 "nbformat_minor": 2,
 "cells": [
  {
   "cell_type": "code",
   "execution_count": 1,
   "metadata": {},
   "outputs": [],
   "source": [
    "import numpy as np\n",
    "import pandas as pd"
   ]
  },
  {
   "cell_type": "code",
   "execution_count": 2,
   "metadata": {},
   "outputs": [],
   "source": [
    "df1 = pd.DataFrame()\n",
    "df2 = pd.DataFrame()"
   ]
  },
  {
   "cell_type": "code",
   "execution_count": 3,
   "metadata": {},
   "outputs": [],
   "source": [
    "df1['viewers'] = [\"Sushmita\", \"Aditya\", \"Bala\", \"Anurag\"]\n",
    "df2['users'] = [\"Aditya\", \"Anurag\", \"Bala\", \"Sushmita\", \"Apoorva\"]"
   ]
  },
  {
   "cell_type": "code",
   "execution_count": 4,
   "metadata": {},
   "outputs": [],
   "source": [
    "np.random.seed(202)"
   ]
  },
  {
   "cell_type": "code",
   "execution_count": 5,
   "metadata": {},
   "outputs": [],
   "source": [
    "df1 = df1.assign(\n",
    "    views=np.random.normal(100, 100, 4)\n",
    ")\n",
    "df2 = df2.assign(\n",
    "    cost=[20, np.nan, 15, 2, 7] \n",
    ")"
   ]
  },
  {
   "cell_type": "code",
   "execution_count": 7,
   "metadata": {},
   "outputs": [
    {
     "output_type": "execute_result",
     "data": {
      "text/plain": [
       "    viewers       views\n",
       "0  Sushmita   26.412626\n",
       "1    Aditya   13.984684\n",
       "2      Bala    7.671759\n",
       "3    Anurag  123.845313"
      ],
      "text/html": "<div>\n<style scoped>\n    .dataframe tbody tr th:only-of-type {\n        vertical-align: middle;\n    }\n\n    .dataframe tbody tr th {\n        vertical-align: top;\n    }\n\n    .dataframe thead th {\n        text-align: right;\n    }\n</style>\n<table border=\"1\" class=\"dataframe\">\n  <thead>\n    <tr style=\"text-align: right;\">\n      <th></th>\n      <th>viewers</th>\n      <th>views</th>\n    </tr>\n  </thead>\n  <tbody>\n    <tr>\n      <th>0</th>\n      <td>Sushmita</td>\n      <td>26.412626</td>\n    </tr>\n    <tr>\n      <th>1</th>\n      <td>Aditya</td>\n      <td>13.984684</td>\n    </tr>\n    <tr>\n      <th>2</th>\n      <td>Bala</td>\n      <td>7.671759</td>\n    </tr>\n    <tr>\n      <th>3</th>\n      <td>Anurag</td>\n      <td>123.845313</td>\n    </tr>\n  </tbody>\n</table>\n</div>"
     },
     "metadata": {},
     "execution_count": 7
    }
   ],
   "source": [
    "df1.head()"
   ]
  },
  {
   "cell_type": "code",
   "execution_count": 8,
   "metadata": {},
   "outputs": [
    {
     "output_type": "execute_result",
     "data": {
      "text/plain": [
       "      users  cost\n",
       "0    Aditya  20.0\n",
       "1    Anurag   NaN\n",
       "2      Bala  15.0\n",
       "3  Sushmita   2.0\n",
       "4   Apoorva   7.0"
      ],
      "text/html": "<div>\n<style scoped>\n    .dataframe tbody tr th:only-of-type {\n        vertical-align: middle;\n    }\n\n    .dataframe tbody tr th {\n        vertical-align: top;\n    }\n\n    .dataframe thead th {\n        text-align: right;\n    }\n</style>\n<table border=\"1\" class=\"dataframe\">\n  <thead>\n    <tr style=\"text-align: right;\">\n      <th></th>\n      <th>users</th>\n      <th>cost</th>\n    </tr>\n  </thead>\n  <tbody>\n    <tr>\n      <th>0</th>\n      <td>Aditya</td>\n      <td>20.0</td>\n    </tr>\n    <tr>\n      <th>1</th>\n      <td>Anurag</td>\n      <td>NaN</td>\n    </tr>\n    <tr>\n      <th>2</th>\n      <td>Bala</td>\n      <td>15.0</td>\n    </tr>\n    <tr>\n      <th>3</th>\n      <td>Sushmita</td>\n      <td>2.0</td>\n    </tr>\n    <tr>\n      <th>4</th>\n      <td>Apoorva</td>\n      <td>7.0</td>\n    </tr>\n  </tbody>\n</table>\n</div>"
     },
     "metadata": {},
     "execution_count": 8
    }
   ],
   "source": [
    "df2.head()"
   ]
  },
  {
   "source": [
    "Performing a left join of df1 with df2. We specify the joining key as viewers and on the right as users\n",
    "This will include all elements in df1 and the users that will match with viewers."
   ],
   "cell_type": "markdown",
   "metadata": {}
  },
  {
   "cell_type": "code",
   "execution_count": 9,
   "metadata": {},
   "outputs": [],
   "source": [
    "df = df1.merge(df2, left_on=\"viewers\", right_on=\"users\", how=\"left\")"
   ]
  },
  {
   "cell_type": "code",
   "execution_count": 10,
   "metadata": {},
   "outputs": [
    {
     "output_type": "execute_result",
     "data": {
      "text/plain": [
       "    viewers       views     users  cost\n",
       "0  Sushmita   26.412626  Sushmita   2.0\n",
       "1    Aditya   13.984684    Aditya  20.0\n",
       "2      Bala    7.671759      Bala  15.0\n",
       "3    Anurag  123.845313    Anurag   NaN"
      ],
      "text/html": "<div>\n<style scoped>\n    .dataframe tbody tr th:only-of-type {\n        vertical-align: middle;\n    }\n\n    .dataframe tbody tr th {\n        vertical-align: top;\n    }\n\n    .dataframe thead th {\n        text-align: right;\n    }\n</style>\n<table border=\"1\" class=\"dataframe\">\n  <thead>\n    <tr style=\"text-align: right;\">\n      <th></th>\n      <th>viewers</th>\n      <th>views</th>\n      <th>users</th>\n      <th>cost</th>\n    </tr>\n  </thead>\n  <tbody>\n    <tr>\n      <th>0</th>\n      <td>Sushmita</td>\n      <td>26.412626</td>\n      <td>Sushmita</td>\n      <td>2.0</td>\n    </tr>\n    <tr>\n      <th>1</th>\n      <td>Aditya</td>\n      <td>13.984684</td>\n      <td>Aditya</td>\n      <td>20.0</td>\n    </tr>\n    <tr>\n      <th>2</th>\n      <td>Bala</td>\n      <td>7.671759</td>\n      <td>Bala</td>\n      <td>15.0</td>\n    </tr>\n    <tr>\n      <th>3</th>\n      <td>Anurag</td>\n      <td>123.845313</td>\n      <td>Anurag</td>\n      <td>NaN</td>\n    </tr>\n  </tbody>\n</table>\n</div>"
     },
     "metadata": {},
     "execution_count": 10
    }
   ],
   "source": [
    "df.head()"
   ]
  },
  {
   "source": [
    "To handle the NaN value in the last column we replace it with the mean value of that column"
   ],
   "cell_type": "markdown",
   "metadata": {}
  },
  {
   "cell_type": "code",
   "execution_count": 12,
   "metadata": {},
   "outputs": [
    {
     "output_type": "execute_result",
     "data": {
      "text/plain": [
       "    viewers       views     users       cost\n",
       "0  Sushmita   26.412626  Sushmita   2.000000\n",
       "1    Aditya   13.984684    Aditya  20.000000\n",
       "2      Bala    7.671759      Bala  15.000000\n",
       "3    Anurag  123.845313    Anurag  12.333333"
      ],
      "text/html": "<div>\n<style scoped>\n    .dataframe tbody tr th:only-of-type {\n        vertical-align: middle;\n    }\n\n    .dataframe tbody tr th {\n        vertical-align: top;\n    }\n\n    .dataframe thead th {\n        text-align: right;\n    }\n</style>\n<table border=\"1\" class=\"dataframe\">\n  <thead>\n    <tr style=\"text-align: right;\">\n      <th></th>\n      <th>viewers</th>\n      <th>views</th>\n      <th>users</th>\n      <th>cost</th>\n    </tr>\n  </thead>\n  <tbody>\n    <tr>\n      <th>0</th>\n      <td>Sushmita</td>\n      <td>26.412626</td>\n      <td>Sushmita</td>\n      <td>2.000000</td>\n    </tr>\n    <tr>\n      <th>1</th>\n      <td>Aditya</td>\n      <td>13.984684</td>\n      <td>Aditya</td>\n      <td>20.000000</td>\n    </tr>\n    <tr>\n      <th>2</th>\n      <td>Bala</td>\n      <td>7.671759</td>\n      <td>Bala</td>\n      <td>15.000000</td>\n    </tr>\n    <tr>\n      <th>3</th>\n      <td>Anurag</td>\n      <td>123.845313</td>\n      <td>Anurag</td>\n      <td>12.333333</td>\n    </tr>\n  </tbody>\n</table>\n</div>"
     },
     "metadata": {},
     "execution_count": 12
    }
   ],
   "source": [
    "df.fillna(df.mean())"
   ]
  },
  {
   "cell_type": "code",
   "execution_count": null,
   "metadata": {},
   "outputs": [],
   "source": []
  }
 ]
}