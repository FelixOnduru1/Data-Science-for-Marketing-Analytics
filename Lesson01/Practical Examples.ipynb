{
 "metadata": {
  "language_info": {
   "codemirror_mode": {
    "name": "ipython",
    "version": 3
   },
   "file_extension": ".py",
   "mimetype": "text/x-python",
   "name": "python",
   "nbconvert_exporter": "python",
   "pygments_lexer": "ipython3",
   "version": "3.8.3"
  },
  "orig_nbformat": 2,
  "kernelspec": {
   "name": "python383jvsc74a57bd0e917a4b3bc59454222998dadc1067c6757b7bd5a39902ace700b84d0d6b4826a",
   "display_name": "Python 3.8.3 64-bit ('base': conda)"
  }
 },
 "nbformat": 4,
 "nbformat_minor": 2,
 "cells": [
  {
   "source": [
    "## Creating a Pandas dataframe"
   ],
   "cell_type": "markdown",
   "metadata": {}
  },
  {
   "cell_type": "code",
   "execution_count": 1,
   "metadata": {},
   "outputs": [],
   "source": [
    "import pandas as pd\n",
    "import copy"
   ]
  },
  {
   "cell_type": "code",
   "execution_count": 2,
   "metadata": {},
   "outputs": [
    {
     "output_type": "execute_result",
     "data": {
      "text/plain": [
       "   category\n",
       "0         1\n",
       "1         2\n",
       "2         3"
      ],
      "text/html": "<div>\n<style scoped>\n    .dataframe tbody tr th:only-of-type {\n        vertical-align: middle;\n    }\n\n    .dataframe tbody tr th {\n        vertical-align: top;\n    }\n\n    .dataframe thead th {\n        text-align: right;\n    }\n</style>\n<table border=\"1\" class=\"dataframe\">\n  <thead>\n    <tr style=\"text-align: right;\">\n      <th></th>\n      <th>category</th>\n    </tr>\n  </thead>\n  <tbody>\n    <tr>\n      <th>0</th>\n      <td>1</td>\n    </tr>\n    <tr>\n      <th>1</th>\n      <td>2</td>\n    </tr>\n    <tr>\n      <th>2</th>\n      <td>3</td>\n    </tr>\n  </tbody>\n</table>\n</div>"
     },
     "metadata": {},
     "execution_count": 2
    }
   ],
   "source": [
    "df = pd.DataFrame(data=[1, 2, 3], columns=[\"category\"])\n",
    "df"
   ]
  },
  {
   "source": [
    "Alternatively you can use a dictionary to create a pandas Dataframe"
   ],
   "cell_type": "markdown",
   "metadata": {}
  },
  {
   "cell_type": "code",
   "execution_count": 7,
   "metadata": {},
   "outputs": [
    {
     "output_type": "execute_result",
     "data": {
      "text/plain": [
       "   category\n",
       "0         1\n",
       "1         2\n",
       "2         3"
      ],
      "text/html": "<div>\n<style scoped>\n    .dataframe tbody tr th:only-of-type {\n        vertical-align: middle;\n    }\n\n    .dataframe tbody tr th {\n        vertical-align: top;\n    }\n\n    .dataframe thead th {\n        text-align: right;\n    }\n</style>\n<table border=\"1\" class=\"dataframe\">\n  <thead>\n    <tr style=\"text-align: right;\">\n      <th></th>\n      <th>category</th>\n    </tr>\n  </thead>\n  <tbody>\n    <tr>\n      <th>0</th>\n      <td>1</td>\n    </tr>\n    <tr>\n      <th>1</th>\n      <td>2</td>\n    </tr>\n    <tr>\n      <th>2</th>\n      <td>3</td>\n    </tr>\n  </tbody>\n</table>\n</div>"
     },
     "metadata": {},
     "execution_count": 7
    }
   ],
   "source": [
    "pd.DataFrame.from_dict({\"category\": [1, 2, 3]})"
   ]
  },
  {
   "cell_type": "code",
   "execution_count": 6,
   "metadata": {},
   "outputs": [
    {
     "output_type": "execute_result",
     "data": {
      "text/plain": [
       "   category\n",
       "0         1\n",
       "1         2\n",
       "2         3"
      ],
      "text/html": "<div>\n<style scoped>\n    .dataframe tbody tr th:only-of-type {\n        vertical-align: middle;\n    }\n\n    .dataframe tbody tr th {\n        vertical-align: top;\n    }\n\n    .dataframe thead th {\n        text-align: right;\n    }\n</style>\n<table border=\"1\" class=\"dataframe\">\n  <thead>\n    <tr style=\"text-align: right;\">\n      <th></th>\n      <th>category</th>\n    </tr>\n  </thead>\n  <tbody>\n    <tr>\n      <th>0</th>\n      <td>1</td>\n    </tr>\n    <tr>\n      <th>1</th>\n      <td>2</td>\n    </tr>\n    <tr>\n      <th>2</th>\n      <td>3</td>\n    </tr>\n  </tbody>\n</table>\n</div>"
     },
     "metadata": {},
     "execution_count": 6
    }
   ],
   "source": [
    "pd.DataFrame({\"category\": pd.Series([1, 2, 3])})"
   ]
  },
  {
   "source": [
    "Creating a test dataframe by duplicating df"
   ],
   "cell_type": "markdown",
   "metadata": {}
  },
  {
   "cell_type": "code",
   "execution_count": 4,
   "metadata": {},
   "outputs": [
    {
     "output_type": "execute_result",
     "data": {
      "text/plain": [
       "   category\n",
       "0         1\n",
       "1         2\n",
       "2         3"
      ],
      "text/html": "<div>\n<style scoped>\n    .dataframe tbody tr th:only-of-type {\n        vertical-align: middle;\n    }\n\n    .dataframe tbody tr th {\n        vertical-align: top;\n    }\n\n    .dataframe thead th {\n        text-align: right;\n    }\n</style>\n<table border=\"1\" class=\"dataframe\">\n  <thead>\n    <tr style=\"text-align: right;\">\n      <th></th>\n      <th>category</th>\n    </tr>\n  </thead>\n  <tbody>\n    <tr>\n      <th>0</th>\n      <td>1</td>\n    </tr>\n    <tr>\n      <th>1</th>\n      <td>2</td>\n    </tr>\n    <tr>\n      <th>2</th>\n      <td>3</td>\n    </tr>\n  </tbody>\n</table>\n</div>"
     },
     "metadata": {},
     "execution_count": 4
    }
   ],
   "source": [
    "df1 = copy.deepcopy(df)\n",
    "df1"
   ]
  },
  {
   "source": [
    "Adding a single column"
   ],
   "cell_type": "markdown",
   "metadata": {}
  },
  {
   "cell_type": "code",
   "execution_count": 5,
   "metadata": {},
   "outputs": [
    {
     "output_type": "execute_result",
     "data": {
      "text/plain": [
       "   category                     cities\n",
       "0         1         [Nairobi, Mombasa]\n",
       "1         2           [Lagos, Nigeria]\n",
       "2         3  [Cape Town, Johannesburg]"
      ],
      "text/html": "<div>\n<style scoped>\n    .dataframe tbody tr th:only-of-type {\n        vertical-align: middle;\n    }\n\n    .dataframe tbody tr th {\n        vertical-align: top;\n    }\n\n    .dataframe thead th {\n        text-align: right;\n    }\n</style>\n<table border=\"1\" class=\"dataframe\">\n  <thead>\n    <tr style=\"text-align: right;\">\n      <th></th>\n      <th>category</th>\n      <th>cities</th>\n    </tr>\n  </thead>\n  <tbody>\n    <tr>\n      <th>0</th>\n      <td>1</td>\n      <td>[Nairobi, Mombasa]</td>\n    </tr>\n    <tr>\n      <th>1</th>\n      <td>2</td>\n      <td>[Lagos, Nigeria]</td>\n    </tr>\n    <tr>\n      <th>2</th>\n      <td>3</td>\n      <td>[Cape Town, Johannesburg]</td>\n    </tr>\n  </tbody>\n</table>\n</div>"
     },
     "metadata": {},
     "execution_count": 5
    }
   ],
   "source": [
    "df1[\"cities\"]  = pd.Series([[\"Nairobi\", \"Mombasa\"], [\"Lagos\", \"Nigeria\"], [\"Cape Town\", \"Johannesburg\"]])\n",
    "df1"
   ]
  },
  {
   "source": [
    "Adding multiple columns using assign function"
   ],
   "cell_type": "markdown",
   "metadata": {}
  },
  {
   "cell_type": "code",
   "execution_count": 6,
   "metadata": {},
   "outputs": [],
   "source": [
    "df1 = df1.assign(\n",
    "    adult_viewers = pd.Series([500000, 1000000, 750000]),\n",
    "    aged_viewers = pd.Series([200000, 400000, 300000]),\n",
    "    young_viewers = pd.Series([1000000, 2000000, 3500000])\n",
    ")"
   ]
  },
  {
   "cell_type": "code",
   "execution_count": 7,
   "metadata": {},
   "outputs": [
    {
     "output_type": "execute_result",
     "data": {
      "text/plain": [
       "   category                     cities  adult_viewers  aged_viewers  \\\n",
       "0         1         [Nairobi, Mombasa]         500000        200000   \n",
       "1         2           [Lagos, Nigeria]        1000000        400000   \n",
       "2         3  [Cape Town, Johannesburg]         750000        300000   \n",
       "\n",
       "   young_viewers  \n",
       "0        1000000  \n",
       "1        2000000  \n",
       "2        3500000  "
      ],
      "text/html": "<div>\n<style scoped>\n    .dataframe tbody tr th:only-of-type {\n        vertical-align: middle;\n    }\n\n    .dataframe tbody tr th {\n        vertical-align: top;\n    }\n\n    .dataframe thead th {\n        text-align: right;\n    }\n</style>\n<table border=\"1\" class=\"dataframe\">\n  <thead>\n    <tr style=\"text-align: right;\">\n      <th></th>\n      <th>category</th>\n      <th>cities</th>\n      <th>adult_viewers</th>\n      <th>aged_viewers</th>\n      <th>young_viewers</th>\n    </tr>\n  </thead>\n  <tbody>\n    <tr>\n      <th>0</th>\n      <td>1</td>\n      <td>[Nairobi, Mombasa]</td>\n      <td>500000</td>\n      <td>200000</td>\n      <td>1000000</td>\n    </tr>\n    <tr>\n      <th>1</th>\n      <td>2</td>\n      <td>[Lagos, Nigeria]</td>\n      <td>1000000</td>\n      <td>400000</td>\n      <td>2000000</td>\n    </tr>\n    <tr>\n      <th>2</th>\n      <td>3</td>\n      <td>[Cape Town, Johannesburg]</td>\n      <td>750000</td>\n      <td>300000</td>\n      <td>3500000</td>\n    </tr>\n  </tbody>\n</table>\n</div>"
     },
     "metadata": {},
     "execution_count": 7
    }
   ],
   "source": [
    "df1"
   ]
  },
  {
   "source": [
    "To add a new row we use the append function"
   ],
   "cell_type": "markdown",
   "metadata": {}
  },
  {
   "cell_type": "code",
   "execution_count": 8,
   "metadata": {},
   "outputs": [],
   "source": [
    "df1 = df1.append(\n",
    "    {\n",
    "        'cities': [\"Kolkata\", \"Hyderabad\"],\n",
    "        'adult_viewers': 2000000,\n",
    "        'aged_viewers': 2000000,\n",
    "        'young_viewers': 1500000\n",
    "    },\n",
    "    ignore_index =True\n",
    " )"
   ]
  },
  {
   "cell_type": "code",
   "execution_count": 9,
   "metadata": {},
   "outputs": [
    {
     "output_type": "execute_result",
     "data": {
      "text/plain": [
       "   category                     cities  adult_viewers  aged_viewers  \\\n",
       "0       1.0         [Nairobi, Mombasa]         500000        200000   \n",
       "1       2.0           [Lagos, Nigeria]        1000000        400000   \n",
       "2       3.0  [Cape Town, Johannesburg]         750000        300000   \n",
       "3       NaN       [Kolkata, Hyderabad]        2000000       2000000   \n",
       "\n",
       "   young_viewers  \n",
       "0        1000000  \n",
       "1        2000000  \n",
       "2        3500000  \n",
       "3        1500000  "
      ],
      "text/html": "<div>\n<style scoped>\n    .dataframe tbody tr th:only-of-type {\n        vertical-align: middle;\n    }\n\n    .dataframe tbody tr th {\n        vertical-align: top;\n    }\n\n    .dataframe thead th {\n        text-align: right;\n    }\n</style>\n<table border=\"1\" class=\"dataframe\">\n  <thead>\n    <tr style=\"text-align: right;\">\n      <th></th>\n      <th>category</th>\n      <th>cities</th>\n      <th>adult_viewers</th>\n      <th>aged_viewers</th>\n      <th>young_viewers</th>\n    </tr>\n  </thead>\n  <tbody>\n    <tr>\n      <th>0</th>\n      <td>1.0</td>\n      <td>[Nairobi, Mombasa]</td>\n      <td>500000</td>\n      <td>200000</td>\n      <td>1000000</td>\n    </tr>\n    <tr>\n      <th>1</th>\n      <td>2.0</td>\n      <td>[Lagos, Nigeria]</td>\n      <td>1000000</td>\n      <td>400000</td>\n      <td>2000000</td>\n    </tr>\n    <tr>\n      <th>2</th>\n      <td>3.0</td>\n      <td>[Cape Town, Johannesburg]</td>\n      <td>750000</td>\n      <td>300000</td>\n      <td>3500000</td>\n    </tr>\n    <tr>\n      <th>3</th>\n      <td>NaN</td>\n      <td>[Kolkata, Hyderabad]</td>\n      <td>2000000</td>\n      <td>2000000</td>\n      <td>1500000</td>\n    </tr>\n  </tbody>\n</table>\n</div>"
     },
     "metadata": {},
     "execution_count": 9
    }
   ],
   "source": [
    "df1"
   ]
  },
  {
   "source": [
    "To duplicate df1 and concatanate"
   ],
   "cell_type": "markdown",
   "metadata": {}
  },
  {
   "cell_type": "code",
   "execution_count": 10,
   "metadata": {},
   "outputs": [
    {
     "output_type": "execute_result",
     "data": {
      "text/plain": [
       "   category                     cities  adult_viewers  aged_viewers  \\\n",
       "0       1.0         [Nairobi, Mombasa]         500000        200000   \n",
       "1       2.0           [Lagos, Nigeria]        1000000        400000   \n",
       "2       3.0  [Cape Town, Johannesburg]         750000        300000   \n",
       "3       NaN       [Kolkata, Hyderabad]        2000000       2000000   \n",
       "0       1.0         [Nairobi, Mombasa]         500000        200000   \n",
       "1       2.0           [Lagos, Nigeria]        1000000        400000   \n",
       "2       3.0  [Cape Town, Johannesburg]         750000        300000   \n",
       "3       NaN       [Kolkata, Hyderabad]        2000000       2000000   \n",
       "\n",
       "   young_viewers  \n",
       "0        1000000  \n",
       "1        2000000  \n",
       "2        3500000  \n",
       "3        1500000  \n",
       "0        1000000  \n",
       "1        2000000  \n",
       "2        3500000  \n",
       "3        1500000  "
      ],
      "text/html": "<div>\n<style scoped>\n    .dataframe tbody tr th:only-of-type {\n        vertical-align: middle;\n    }\n\n    .dataframe tbody tr th {\n        vertical-align: top;\n    }\n\n    .dataframe thead th {\n        text-align: right;\n    }\n</style>\n<table border=\"1\" class=\"dataframe\">\n  <thead>\n    <tr style=\"text-align: right;\">\n      <th></th>\n      <th>category</th>\n      <th>cities</th>\n      <th>adult_viewers</th>\n      <th>aged_viewers</th>\n      <th>young_viewers</th>\n    </tr>\n  </thead>\n  <tbody>\n    <tr>\n      <th>0</th>\n      <td>1.0</td>\n      <td>[Nairobi, Mombasa]</td>\n      <td>500000</td>\n      <td>200000</td>\n      <td>1000000</td>\n    </tr>\n    <tr>\n      <th>1</th>\n      <td>2.0</td>\n      <td>[Lagos, Nigeria]</td>\n      <td>1000000</td>\n      <td>400000</td>\n      <td>2000000</td>\n    </tr>\n    <tr>\n      <th>2</th>\n      <td>3.0</td>\n      <td>[Cape Town, Johannesburg]</td>\n      <td>750000</td>\n      <td>300000</td>\n      <td>3500000</td>\n    </tr>\n    <tr>\n      <th>3</th>\n      <td>NaN</td>\n      <td>[Kolkata, Hyderabad]</td>\n      <td>2000000</td>\n      <td>2000000</td>\n      <td>1500000</td>\n    </tr>\n    <tr>\n      <th>0</th>\n      <td>1.0</td>\n      <td>[Nairobi, Mombasa]</td>\n      <td>500000</td>\n      <td>200000</td>\n      <td>1000000</td>\n    </tr>\n    <tr>\n      <th>1</th>\n      <td>2.0</td>\n      <td>[Lagos, Nigeria]</td>\n      <td>1000000</td>\n      <td>400000</td>\n      <td>2000000</td>\n    </tr>\n    <tr>\n      <th>2</th>\n      <td>3.0</td>\n      <td>[Cape Town, Johannesburg]</td>\n      <td>750000</td>\n      <td>300000</td>\n      <td>3500000</td>\n    </tr>\n    <tr>\n      <th>3</th>\n      <td>NaN</td>\n      <td>[Kolkata, Hyderabad]</td>\n      <td>2000000</td>\n      <td>2000000</td>\n      <td>1500000</td>\n    </tr>\n  </tbody>\n</table>\n</div>"
     },
     "metadata": {},
     "execution_count": 10
    }
   ],
   "source": [
    "df2 = pd.concat([df1, df1], sort=False)\n",
    "df2"
   ]
  },
  {
   "source": [
    "To delete a row"
   ],
   "cell_type": "markdown",
   "metadata": {}
  },
  {
   "cell_type": "code",
   "execution_count": 11,
   "metadata": {},
   "outputs": [
    {
     "output_type": "execute_result",
     "data": {
      "text/plain": [
       "   category                     cities  adult_viewers  aged_viewers  \\\n",
       "0       1.0         [Nairobi, Mombasa]         500000        200000   \n",
       "1       2.0           [Lagos, Nigeria]        1000000        400000   \n",
       "2       3.0  [Cape Town, Johannesburg]         750000        300000   \n",
       "\n",
       "   young_viewers  \n",
       "0        1000000  \n",
       "1        2000000  \n",
       "2        3500000  "
      ],
      "text/html": "<div>\n<style scoped>\n    .dataframe tbody tr th:only-of-type {\n        vertical-align: middle;\n    }\n\n    .dataframe tbody tr th {\n        vertical-align: top;\n    }\n\n    .dataframe thead th {\n        text-align: right;\n    }\n</style>\n<table border=\"1\" class=\"dataframe\">\n  <thead>\n    <tr style=\"text-align: right;\">\n      <th></th>\n      <th>category</th>\n      <th>cities</th>\n      <th>adult_viewers</th>\n      <th>aged_viewers</th>\n      <th>young_viewers</th>\n    </tr>\n  </thead>\n  <tbody>\n    <tr>\n      <th>0</th>\n      <td>1.0</td>\n      <td>[Nairobi, Mombasa]</td>\n      <td>500000</td>\n      <td>200000</td>\n      <td>1000000</td>\n    </tr>\n    <tr>\n      <th>1</th>\n      <td>2.0</td>\n      <td>[Lagos, Nigeria]</td>\n      <td>1000000</td>\n      <td>400000</td>\n      <td>2000000</td>\n    </tr>\n    <tr>\n      <th>2</th>\n      <td>3.0</td>\n      <td>[Cape Town, Johannesburg]</td>\n      <td>750000</td>\n      <td>300000</td>\n      <td>3500000</td>\n    </tr>\n  </tbody>\n</table>\n</div>"
     },
     "metadata": {},
     "execution_count": 11
    }
   ],
   "source": [
    "df1 = df1.drop([3])\n",
    "df1"
   ]
  },
  {
   "source": [
    "To delete a column"
   ],
   "cell_type": "markdown",
   "metadata": {}
  },
  {
   "cell_type": "code",
   "execution_count": 12,
   "metadata": {},
   "outputs": [
    {
     "output_type": "execute_result",
     "data": {
      "text/plain": [
       "   category  adult_viewers  aged_viewers  young_viewers\n",
       "0       1.0         500000        200000        1000000\n",
       "1       2.0        1000000        400000        2000000\n",
       "2       3.0         750000        300000        3500000"
      ],
      "text/html": "<div>\n<style scoped>\n    .dataframe tbody tr th:only-of-type {\n        vertical-align: middle;\n    }\n\n    .dataframe tbody tr th {\n        vertical-align: top;\n    }\n\n    .dataframe thead th {\n        text-align: right;\n    }\n</style>\n<table border=\"1\" class=\"dataframe\">\n  <thead>\n    <tr style=\"text-align: right;\">\n      <th></th>\n      <th>category</th>\n      <th>adult_viewers</th>\n      <th>aged_viewers</th>\n      <th>young_viewers</th>\n    </tr>\n  </thead>\n  <tbody>\n    <tr>\n      <th>0</th>\n      <td>1.0</td>\n      <td>500000</td>\n      <td>200000</td>\n      <td>1000000</td>\n    </tr>\n    <tr>\n      <th>1</th>\n      <td>2.0</td>\n      <td>1000000</td>\n      <td>400000</td>\n      <td>2000000</td>\n    </tr>\n    <tr>\n      <th>2</th>\n      <td>3.0</td>\n      <td>750000</td>\n      <td>300000</td>\n      <td>3500000</td>\n    </tr>\n  </tbody>\n</table>\n</div>"
     },
     "metadata": {},
     "execution_count": 12
    }
   ],
   "source": [
    "df1 = df1.drop([\"cities\"], axis=1)\n",
    "df1"
   ]
  },
  {
   "source": [
    "We can chain functions as follows(dropping the cities column and dropping duplicates)"
   ],
   "cell_type": "markdown",
   "metadata": {}
  },
  {
   "cell_type": "code",
   "execution_count": 13,
   "metadata": {},
   "outputs": [
    {
     "output_type": "execute_result",
     "data": {
      "text/plain": [
       "   category  adult_viewers  aged_viewers  young_viewers\n",
       "0       1.0         500000        200000        1000000\n",
       "1       2.0        1000000        400000        2000000\n",
       "2       3.0         750000        300000        3500000\n",
       "3       NaN        2000000       2000000        1500000"
      ],
      "text/html": "<div>\n<style scoped>\n    .dataframe tbody tr th:only-of-type {\n        vertical-align: middle;\n    }\n\n    .dataframe tbody tr th {\n        vertical-align: top;\n    }\n\n    .dataframe thead th {\n        text-align: right;\n    }\n</style>\n<table border=\"1\" class=\"dataframe\">\n  <thead>\n    <tr style=\"text-align: right;\">\n      <th></th>\n      <th>category</th>\n      <th>adult_viewers</th>\n      <th>aged_viewers</th>\n      <th>young_viewers</th>\n    </tr>\n  </thead>\n  <tbody>\n    <tr>\n      <th>0</th>\n      <td>1.0</td>\n      <td>500000</td>\n      <td>200000</td>\n      <td>1000000</td>\n    </tr>\n    <tr>\n      <th>1</th>\n      <td>2.0</td>\n      <td>1000000</td>\n      <td>400000</td>\n      <td>2000000</td>\n    </tr>\n    <tr>\n      <th>2</th>\n      <td>3.0</td>\n      <td>750000</td>\n      <td>300000</td>\n      <td>3500000</td>\n    </tr>\n    <tr>\n      <th>3</th>\n      <td>NaN</td>\n      <td>2000000</td>\n      <td>2000000</td>\n      <td>1500000</td>\n    </tr>\n  </tbody>\n</table>\n</div>"
     },
     "metadata": {},
     "execution_count": 13
    }
   ],
   "source": [
    "df2 = df2.drop([\"cities\"], axis=1).drop_duplicates()\n",
    "df2"
   ]
  },
  {
   "source": [
    "You can fill a NaN yourself, drop it or use a mean or median to fill it."
   ],
   "cell_type": "markdown",
   "metadata": {}
  },
  {
   "cell_type": "code",
   "execution_count": 14,
   "metadata": {},
   "outputs": [
    {
     "output_type": "execute_result",
     "data": {
      "text/plain": [
       "   category  adult_viewers  aged_viewers  young_viewers\n",
       "0       1.0         500000        200000        1000000\n",
       "1       2.0        1000000        400000        2000000\n",
       "2       3.0         750000        300000        3500000\n",
       "3       4.0        2000000       2000000        1500000"
      ],
      "text/html": "<div>\n<style scoped>\n    .dataframe tbody tr th:only-of-type {\n        vertical-align: middle;\n    }\n\n    .dataframe tbody tr th {\n        vertical-align: top;\n    }\n\n    .dataframe thead th {\n        text-align: right;\n    }\n</style>\n<table border=\"1\" class=\"dataframe\">\n  <thead>\n    <tr style=\"text-align: right;\">\n      <th></th>\n      <th>category</th>\n      <th>adult_viewers</th>\n      <th>aged_viewers</th>\n      <th>young_viewers</th>\n    </tr>\n  </thead>\n  <tbody>\n    <tr>\n      <th>0</th>\n      <td>1.0</td>\n      <td>500000</td>\n      <td>200000</td>\n      <td>1000000</td>\n    </tr>\n    <tr>\n      <th>1</th>\n      <td>2.0</td>\n      <td>1000000</td>\n      <td>400000</td>\n      <td>2000000</td>\n    </tr>\n    <tr>\n      <th>2</th>\n      <td>3.0</td>\n      <td>750000</td>\n      <td>300000</td>\n      <td>3500000</td>\n    </tr>\n    <tr>\n      <th>3</th>\n      <td>4.0</td>\n      <td>2000000</td>\n      <td>2000000</td>\n      <td>1500000</td>\n    </tr>\n  </tbody>\n</table>\n</div>"
     },
     "metadata": {},
     "execution_count": 14
    }
   ],
   "source": [
    "# To fill yourself\n",
    "df2.fillna(4)"
   ]
  },
  {
   "cell_type": "code",
   "execution_count": 17,
   "metadata": {},
   "outputs": [
    {
     "output_type": "execute_result",
     "data": {
      "text/plain": [
       "   category  adult_viewers  aged_viewers  young_viewers\n",
       "0       1.0         500000        200000        1000000\n",
       "1       2.0        1000000        400000        2000000\n",
       "2       3.0         750000        300000        3500000\n",
       "3       2.0        2000000       2000000        1500000"
      ],
      "text/html": "<div>\n<style scoped>\n    .dataframe tbody tr th:only-of-type {\n        vertical-align: middle;\n    }\n\n    .dataframe tbody tr th {\n        vertical-align: top;\n    }\n\n    .dataframe thead th {\n        text-align: right;\n    }\n</style>\n<table border=\"1\" class=\"dataframe\">\n  <thead>\n    <tr style=\"text-align: right;\">\n      <th></th>\n      <th>category</th>\n      <th>adult_viewers</th>\n      <th>aged_viewers</th>\n      <th>young_viewers</th>\n    </tr>\n  </thead>\n  <tbody>\n    <tr>\n      <th>0</th>\n      <td>1.0</td>\n      <td>500000</td>\n      <td>200000</td>\n      <td>1000000</td>\n    </tr>\n    <tr>\n      <th>1</th>\n      <td>2.0</td>\n      <td>1000000</td>\n      <td>400000</td>\n      <td>2000000</td>\n    </tr>\n    <tr>\n      <th>2</th>\n      <td>3.0</td>\n      <td>750000</td>\n      <td>300000</td>\n      <td>3500000</td>\n    </tr>\n    <tr>\n      <th>3</th>\n      <td>2.0</td>\n      <td>2000000</td>\n      <td>2000000</td>\n      <td>1500000</td>\n    </tr>\n  </tbody>\n</table>\n</div>"
     },
     "metadata": {},
     "execution_count": 17
    }
   ],
   "source": [
    "# To fill using a mean\n",
    "df2.fillna(df2.mean())"
   ]
  },
  {
   "cell_type": "code",
   "execution_count": 18,
   "metadata": {},
   "outputs": [
    {
     "output_type": "execute_result",
     "data": {
      "text/plain": [
       "   category  adult_viewers  aged_viewers  young_viewers\n",
       "0       1.0         500000        200000        1000000\n",
       "1       2.0        1000000        400000        2000000\n",
       "2       3.0         750000        300000        3500000\n",
       "3       2.0        2000000       2000000        1500000"
      ],
      "text/html": "<div>\n<style scoped>\n    .dataframe tbody tr th:only-of-type {\n        vertical-align: middle;\n    }\n\n    .dataframe tbody tr th {\n        vertical-align: top;\n    }\n\n    .dataframe thead th {\n        text-align: right;\n    }\n</style>\n<table border=\"1\" class=\"dataframe\">\n  <thead>\n    <tr style=\"text-align: right;\">\n      <th></th>\n      <th>category</th>\n      <th>adult_viewers</th>\n      <th>aged_viewers</th>\n      <th>young_viewers</th>\n    </tr>\n  </thead>\n  <tbody>\n    <tr>\n      <th>0</th>\n      <td>1.0</td>\n      <td>500000</td>\n      <td>200000</td>\n      <td>1000000</td>\n    </tr>\n    <tr>\n      <th>1</th>\n      <td>2.0</td>\n      <td>1000000</td>\n      <td>400000</td>\n      <td>2000000</td>\n    </tr>\n    <tr>\n      <th>2</th>\n      <td>3.0</td>\n      <td>750000</td>\n      <td>300000</td>\n      <td>3500000</td>\n    </tr>\n    <tr>\n      <th>3</th>\n      <td>2.0</td>\n      <td>2000000</td>\n      <td>2000000</td>\n      <td>1500000</td>\n    </tr>\n  </tbody>\n</table>\n</div>"
     },
     "metadata": {},
     "execution_count": 18
    }
   ],
   "source": [
    "# To fill using a median\n",
    "df2.fillna(df2.median())"
   ]
  },
  {
   "cell_type": "code",
   "execution_count": 19,
   "metadata": {},
   "outputs": [
    {
     "output_type": "execute_result",
     "data": {
      "text/plain": [
       "   category  adult_viewers  aged_viewers  young_viewers\n",
       "0       1.0         500000        200000        1000000\n",
       "1       2.0        1000000        400000        2000000\n",
       "2       3.0         750000        300000        3500000"
      ],
      "text/html": "<div>\n<style scoped>\n    .dataframe tbody tr th:only-of-type {\n        vertical-align: middle;\n    }\n\n    .dataframe tbody tr th {\n        vertical-align: top;\n    }\n\n    .dataframe thead th {\n        text-align: right;\n    }\n</style>\n<table border=\"1\" class=\"dataframe\">\n  <thead>\n    <tr style=\"text-align: right;\">\n      <th></th>\n      <th>category</th>\n      <th>adult_viewers</th>\n      <th>aged_viewers</th>\n      <th>young_viewers</th>\n    </tr>\n  </thead>\n  <tbody>\n    <tr>\n      <th>0</th>\n      <td>1.0</td>\n      <td>500000</td>\n      <td>200000</td>\n      <td>1000000</td>\n    </tr>\n    <tr>\n      <th>1</th>\n      <td>2.0</td>\n      <td>1000000</td>\n      <td>400000</td>\n      <td>2000000</td>\n    </tr>\n    <tr>\n      <th>2</th>\n      <td>3.0</td>\n      <td>750000</td>\n      <td>300000</td>\n      <td>3500000</td>\n    </tr>\n  </tbody>\n</table>\n</div>"
     },
     "metadata": {},
     "execution_count": 19
    }
   ],
   "source": [
    "# To drop the NaN\n",
    "df2.dropna()"
   ]
  },
  {
   "cell_type": "code",
   "execution_count": 21,
   "metadata": {},
   "outputs": [
    {
     "output_type": "execute_result",
     "data": {
      "text/plain": [
       "   category  adult_viewers  aged_viewers  young_viewers\n",
       "0       1.0         500000        200000        1000000\n",
       "1       2.0        1000000        400000        2000000\n",
       "2       3.0         750000        300000        3500000\n",
       "3       4.0        2000000       2000000        1500000"
      ],
      "text/html": "<div>\n<style scoped>\n    .dataframe tbody tr th:only-of-type {\n        vertical-align: middle;\n    }\n\n    .dataframe tbody tr th {\n        vertical-align: top;\n    }\n\n    .dataframe thead th {\n        text-align: right;\n    }\n</style>\n<table border=\"1\" class=\"dataframe\">\n  <thead>\n    <tr style=\"text-align: right;\">\n      <th></th>\n      <th>category</th>\n      <th>adult_viewers</th>\n      <th>aged_viewers</th>\n      <th>young_viewers</th>\n    </tr>\n  </thead>\n  <tbody>\n    <tr>\n      <th>0</th>\n      <td>1.0</td>\n      <td>500000</td>\n      <td>200000</td>\n      <td>1000000</td>\n    </tr>\n    <tr>\n      <th>1</th>\n      <td>2.0</td>\n      <td>1000000</td>\n      <td>400000</td>\n      <td>2000000</td>\n    </tr>\n    <tr>\n      <th>2</th>\n      <td>3.0</td>\n      <td>750000</td>\n      <td>300000</td>\n      <td>3500000</td>\n    </tr>\n    <tr>\n      <th>3</th>\n      <td>4.0</td>\n      <td>2000000</td>\n      <td>2000000</td>\n      <td>1500000</td>\n    </tr>\n  </tbody>\n</table>\n</div>"
     },
     "metadata": {},
     "execution_count": 21
    }
   ],
   "source": [
    "df2 = df2.fillna(4)\n",
    "df2"
   ]
  },
  {
   "source": [
    "Performing operations on the dataframe"
   ],
   "cell_type": "markdown",
   "metadata": {}
  },
  {
   "cell_type": "code",
   "execution_count": 23,
   "metadata": {},
   "outputs": [
    {
     "output_type": "execute_result",
     "data": {
      "text/plain": [
       "   category  adult_viewers  aged_viewers  young_viewers  viewers\n",
       "0       1.0         500000        200000        1000000  1700000\n",
       "1       2.0        1000000        400000        2000000  3400000\n",
       "2       3.0         750000        300000        3500000  4550000\n",
       "3       4.0        2000000       2000000        1500000  5500000"
      ],
      "text/html": "<div>\n<style scoped>\n    .dataframe tbody tr th:only-of-type {\n        vertical-align: middle;\n    }\n\n    .dataframe tbody tr th {\n        vertical-align: top;\n    }\n\n    .dataframe thead th {\n        text-align: right;\n    }\n</style>\n<table border=\"1\" class=\"dataframe\">\n  <thead>\n    <tr style=\"text-align: right;\">\n      <th></th>\n      <th>category</th>\n      <th>adult_viewers</th>\n      <th>aged_viewers</th>\n      <th>young_viewers</th>\n      <th>viewers</th>\n    </tr>\n  </thead>\n  <tbody>\n    <tr>\n      <th>0</th>\n      <td>1.0</td>\n      <td>500000</td>\n      <td>200000</td>\n      <td>1000000</td>\n      <td>1700000</td>\n    </tr>\n    <tr>\n      <th>1</th>\n      <td>2.0</td>\n      <td>1000000</td>\n      <td>400000</td>\n      <td>2000000</td>\n      <td>3400000</td>\n    </tr>\n    <tr>\n      <th>2</th>\n      <td>3.0</td>\n      <td>750000</td>\n      <td>300000</td>\n      <td>3500000</td>\n      <td>4550000</td>\n    </tr>\n    <tr>\n      <th>3</th>\n      <td>4.0</td>\n      <td>2000000</td>\n      <td>2000000</td>\n      <td>1500000</td>\n      <td>5500000</td>\n    </tr>\n  </tbody>\n</table>\n</div>"
     },
     "metadata": {},
     "execution_count": 23
    }
   ],
   "source": [
    "# You can add columns as shown:\n",
    "df2[\"viewers\"] = df2[\"adult_viewers\"] + df2[\"aged_viewers\"] + df2[\"young_viewers\"]\n",
    "df2"
   ]
  },
  {
   "cell_type": "code",
   "execution_count": 24,
   "metadata": {},
   "outputs": [
    {
     "output_type": "execute_result",
     "data": {
      "text/plain": [
       "   category  adult_viewers  aged_viewers  young_viewers  viewers  \\\n",
       "0       1.0         500000        200000        1000000  1700000   \n",
       "1       2.0        1000000        400000        2000000  3400000   \n",
       "2       3.0         750000        300000        3500000  4550000   \n",
       "3       4.0        2000000       2000000        1500000  5500000   \n",
       "\n",
       "   expected_clicks  \n",
       "0          51000.0  \n",
       "1         102000.0  \n",
       "2         136500.0  \n",
       "3         165000.0  "
      ],
      "text/html": "<div>\n<style scoped>\n    .dataframe tbody tr th:only-of-type {\n        vertical-align: middle;\n    }\n\n    .dataframe tbody tr th {\n        vertical-align: top;\n    }\n\n    .dataframe thead th {\n        text-align: right;\n    }\n</style>\n<table border=\"1\" class=\"dataframe\">\n  <thead>\n    <tr style=\"text-align: right;\">\n      <th></th>\n      <th>category</th>\n      <th>adult_viewers</th>\n      <th>aged_viewers</th>\n      <th>young_viewers</th>\n      <th>viewers</th>\n      <th>expected_clicks</th>\n    </tr>\n  </thead>\n  <tbody>\n    <tr>\n      <th>0</th>\n      <td>1.0</td>\n      <td>500000</td>\n      <td>200000</td>\n      <td>1000000</td>\n      <td>1700000</td>\n      <td>51000.0</td>\n    </tr>\n    <tr>\n      <th>1</th>\n      <td>2.0</td>\n      <td>1000000</td>\n      <td>400000</td>\n      <td>2000000</td>\n      <td>3400000</td>\n      <td>102000.0</td>\n    </tr>\n    <tr>\n      <th>2</th>\n      <td>3.0</td>\n      <td>750000</td>\n      <td>300000</td>\n      <td>3500000</td>\n      <td>4550000</td>\n      <td>136500.0</td>\n    </tr>\n    <tr>\n      <th>3</th>\n      <td>4.0</td>\n      <td>2000000</td>\n      <td>2000000</td>\n      <td>1500000</td>\n      <td>5500000</td>\n      <td>165000.0</td>\n    </tr>\n  </tbody>\n</table>\n</div>"
     },
     "metadata": {},
     "execution_count": 24
    }
   ],
   "source": [
    "# Or perform an operation on a single column:\n",
    "df2[\"expected_clicks\"] = 0.03*df2[\"viewers\"]\n",
    "df2"
   ]
  },
  {
   "source": [
    "## Iterations on columns and rows"
   ],
   "cell_type": "markdown",
   "metadata": {}
  },
  {
   "source": [
    "We can iterate through rows and columns of Pandas objects using itertuples and iteritems.\n",
    "Itertuples is used to iterate through the rows of a dataframe.\n",
    "iteritems is used to iterate through the columns of a dataframe"
   ],
   "cell_type": "markdown",
   "metadata": {}
  },
  {
   "source": [
    "## 1. Itertuples"
   ],
   "cell_type": "markdown",
   "metadata": {}
  },
  {
   "cell_type": "code",
   "execution_count": 28,
   "metadata": {},
   "outputs": [
    {
     "output_type": "stream",
     "name": "stdout",
     "text": [
      "Pandas(Index=0, category=1.0, adult_viewers=500000, aged_viewers=200000, young_viewers=1000000, viewers=1700000, expected_clicks=51000.0)\nPandas(Index=1, category=2.0, adult_viewers=1000000, aged_viewers=400000, young_viewers=2000000, viewers=3400000, expected_clicks=102000.0)\nPandas(Index=2, category=3.0, adult_viewers=750000, aged_viewers=300000, young_viewers=3500000, viewers=4550000, expected_clicks=136500.0)\nPandas(Index=3, category=4.0, adult_viewers=2000000, aged_viewers=2000000, young_viewers=1500000, viewers=5500000, expected_clicks=165000.0)\n"
     ]
    }
   ],
   "source": [
    "# Using the itertuples to iterate through the rows:\n",
    "for row in df2.itertuples():\n",
    "    print(row)"
   ]
  },
  {
   "cell_type": "code",
   "execution_count": 29,
   "metadata": {},
   "outputs": [
    {
     "output_type": "stream",
     "name": "stdout",
     "text": [
      "Pandas(category=1.0, adult_viewers=500000, aged_viewers=200000, young_viewers=1000000, viewers=1700000, expected_clicks=51000.0)\nPandas(category=2.0, adult_viewers=1000000, aged_viewers=400000, young_viewers=2000000, viewers=3400000, expected_clicks=102000.0)\nPandas(category=3.0, adult_viewers=750000, aged_viewers=300000, young_viewers=3500000, viewers=4550000, expected_clicks=136500.0)\nPandas(category=4.0, adult_viewers=2000000, aged_viewers=2000000, young_viewers=1500000, viewers=5500000, expected_clicks=165000.0)\n"
     ]
    }
   ],
   "source": [
    "# To remove the index in the tuple:\n",
    "for row in df2.itertuples(index=False):\n",
    "    print(row)"
   ]
  },
  {
   "cell_type": "code",
   "execution_count": 30,
   "metadata": {},
   "outputs": [
    {
     "output_type": "stream",
     "name": "stdout",
     "text": [
      "Monthly(category=1.0, adult_viewers=500000, aged_viewers=200000, young_viewers=1000000, viewers=1700000, expected_clicks=51000.0)\nMonthly(category=2.0, adult_viewers=1000000, aged_viewers=400000, young_viewers=2000000, viewers=3400000, expected_clicks=102000.0)\nMonthly(category=3.0, adult_viewers=750000, aged_viewers=300000, young_viewers=3500000, viewers=4550000, expected_clicks=136500.0)\nMonthly(category=4.0, adult_viewers=2000000, aged_viewers=2000000, young_viewers=1500000, viewers=5500000, expected_clicks=165000.0)\n"
     ]
    }
   ],
   "source": [
    "# TO rename the name of the tuple:\n",
    "for row in df2.itertuples(index=False, name=\"Monthly\"):\n",
    "    print(row)"
   ]
  },
  {
   "source": [
    "## 2. Iterrows"
   ],
   "cell_type": "markdown",
   "metadata": {}
  },
  {
   "source": [
    "This method iterates over the rows of a dataframe in tuples of the type (label, content), where label is the index of the row and content is a pandas series containing every item in the row."
   ],
   "cell_type": "markdown",
   "metadata": {}
  },
  {
   "cell_type": "code",
   "execution_count": 35,
   "metadata": {},
   "outputs": [
    {
     "output_type": "stream",
     "name": "stdout",
     "text": [
      "0 1700000.0 51000.0\n1 3400000.0 102000.0\n2 4550000.0 136500.0\n3 5500000.0 165000.0\n"
     ]
    }
   ],
   "source": [
    "for label, content in df2.iterrows():\n",
    "    print(label, content[\"viewers\"], getattr(content, \"expected_clicks\"))\n",
    "# The getattr function returns the value of the named attribute of an object. In this case the object is the content the attribute is expected_clicks."
   ]
  },
  {
   "source": [
    "## 3. Iteritems"
   ],
   "cell_type": "markdown",
   "metadata": {}
  },
  {
   "source": [
    "This method iterates over the columns of a dataframe in tuples of the type (label, content), where label is the name of the column and content is the content of the column in the form of a Pandas series object"
   ],
   "cell_type": "markdown",
   "metadata": {}
  },
  {
   "cell_type": "code",
   "execution_count": 37,
   "metadata": {},
   "outputs": [
    {
     "output_type": "stream",
     "name": "stdout",
     "text": [
      "category 3.0\nadult_viewers 750000\naged_viewers 300000\nyoung_viewers 3500000\nviewers 4550000\nexpected_clicks 136500.0\n"
     ]
    }
   ],
   "source": [
    "for label, content in df2.iteritems():\n",
    "    print(label, content[2])\n",
    "# This prints all the labels but specific to the row with index 2"
   ]
  },
  {
   "source": [
    "## Map an Apply Built-In functions"
   ],
   "cell_type": "markdown",
   "metadata": {}
  },
  {
   "source": [
    "## 1. Map"
   ],
   "cell_type": "markdown",
   "metadata": {}
  },
  {
   "source": [
    "Returns an object of the same type as that that was passed into it"
   ],
   "cell_type": "markdown",
   "metadata": {}
  },
  {
   "cell_type": "code",
   "execution_count": 39,
   "metadata": {},
   "outputs": [
    {
     "output_type": "execute_result",
     "data": {
      "text/plain": [
       "0    A\n",
       "1    B\n",
       "2    C\n",
       "3    D\n",
       "Name: category, dtype: object"
      ]
     },
     "metadata": {},
     "execution_count": 39
    }
   ],
   "source": [
    "df2[\"category\"].map({\n",
    "    1:\"A\",\n",
    "    2:\"B\",\n",
    "    3:\"C\",\n",
    "    4:\"D\"\n",
    "})"
   ]
  },
  {
   "source": [
    "## 2. Map"
   ],
   "cell_type": "markdown",
   "metadata": {}
  },
  {
   "source": [
    "This applies the function passed and returns a Dataframe. It can take multiple columns as inputs."
   ],
   "cell_type": "markdown",
   "metadata": {}
  },
  {
   "cell_type": "code",
   "execution_count": 41,
   "metadata": {},
   "outputs": [
    {
     "output_type": "execute_result",
     "data": {
      "text/plain": [
       "0    0.588235\n",
       "1    0.588235\n",
       "2    0.769231\n",
       "3    0.272727\n",
       "dtype: float64"
      ]
     },
     "metadata": {},
     "execution_count": 41
    }
   ],
   "source": [
    "df2[['young_viewers', 'viewers']].apply(lambda x: (x[0]*1.0)/x[1], axis=1)\n",
    "# The lambda in this case specifies the function(young_viewers/viewers) while axis=1 specifies that the function should be applied to every row"
   ]
  },
  {
   "source": [
    "## Grouping Data"
   ],
   "cell_type": "markdown",
   "metadata": {}
  },
  {
   "cell_type": "code",
   "execution_count": 43,
   "metadata": {},
   "outputs": [
    {
     "output_type": "execute_result",
     "data": {
      "text/plain": [
       "young_viewers\n",
       "1000000     51000.0\n",
       "1500000    165000.0\n",
       "2000000    102000.0\n",
       "3500000    136500.0\n",
       "Name: expected_clicks, dtype: float64"
      ]
     },
     "metadata": {},
     "execution_count": 43
    }
   ],
   "source": [
    "df2.groupby(\"young_viewers\")[\"expected_clicks\"].sum()"
   ]
  },
  {
   "cell_type": "code",
   "execution_count": null,
   "metadata": {},
   "outputs": [],
   "source": []
  }
 ]
}