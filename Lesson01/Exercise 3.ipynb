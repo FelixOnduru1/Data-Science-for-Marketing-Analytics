{
 "metadata": {
  "language_info": {
   "codemirror_mode": {
    "name": "ipython",
    "version": 3
   },
   "file_extension": ".py",
   "mimetype": "text/x-python",
   "name": "python",
   "nbconvert_exporter": "python",
   "pygments_lexer": "ipython3",
   "version": "3.8.3"
  },
  "orig_nbformat": 2,
  "kernelspec": {
   "name": "python383jvsc74a57bd0e917a4b3bc59454222998dadc1067c6757b7bd5a39902ace700b84d0d6b4826a",
   "display_name": "Python 3.8.3 64-bit ('base': conda)"
  }
 },
 "nbformat": 4,
 "nbformat_minor": 2,
 "cells": [
  {
   "cell_type": "code",
   "execution_count": 1,
   "metadata": {},
   "outputs": [],
   "source": [
    "import pandas as pd\n",
    "import copy"
   ]
  },
  {
   "cell_type": "code",
   "execution_count": 31,
   "metadata": {},
   "outputs": [
    {
     "output_type": "execute_result",
     "data": {
      "text/plain": [
       "   Category\n",
       "0         1\n",
       "1         2\n",
       "2         3"
      ],
      "text/html": "<div>\n<style scoped>\n    .dataframe tbody tr th:only-of-type {\n        vertical-align: middle;\n    }\n\n    .dataframe tbody tr th {\n        vertical-align: top;\n    }\n\n    .dataframe thead th {\n        text-align: right;\n    }\n</style>\n<table border=\"1\" class=\"dataframe\">\n  <thead>\n    <tr style=\"text-align: right;\">\n      <th></th>\n      <th>Category</th>\n    </tr>\n  </thead>\n  <tbody>\n    <tr>\n      <th>0</th>\n      <td>1</td>\n    </tr>\n    <tr>\n      <th>1</th>\n      <td>2</td>\n    </tr>\n    <tr>\n      <th>2</th>\n      <td>3</td>\n    </tr>\n  </tbody>\n</table>\n</div>"
     },
     "metadata": {},
     "execution_count": 31
    }
   ],
   "source": [
    "df = pd.DataFrame(pd.Series([1, 2, 3]), columns=[\"Category\"])\n",
    "df"
   ]
  },
  {
   "source": [
    "Creating a test dataframe by duplicating df"
   ],
   "cell_type": "markdown",
   "metadata": {}
  },
  {
   "cell_type": "code",
   "execution_count": 32,
   "metadata": {},
   "outputs": [
    {
     "output_type": "execute_result",
     "data": {
      "text/plain": [
       "   Category\n",
       "0         1\n",
       "1         2\n",
       "2         3"
      ],
      "text/html": "<div>\n<style scoped>\n    .dataframe tbody tr th:only-of-type {\n        vertical-align: middle;\n    }\n\n    .dataframe tbody tr th {\n        vertical-align: top;\n    }\n\n    .dataframe thead th {\n        text-align: right;\n    }\n</style>\n<table border=\"1\" class=\"dataframe\">\n  <thead>\n    <tr style=\"text-align: right;\">\n      <th></th>\n      <th>Category</th>\n    </tr>\n  </thead>\n  <tbody>\n    <tr>\n      <th>0</th>\n      <td>1</td>\n    </tr>\n    <tr>\n      <th>1</th>\n      <td>2</td>\n    </tr>\n    <tr>\n      <th>2</th>\n      <td>3</td>\n    </tr>\n  </tbody>\n</table>\n</div>"
     },
     "metadata": {},
     "execution_count": 32
    }
   ],
   "source": [
    "df1 = copy.deepcopy(df)\n",
    "df1"
   ]
  },
  {
   "source": [
    "Adding a single column"
   ],
   "cell_type": "markdown",
   "metadata": {}
  },
  {
   "cell_type": "code",
   "execution_count": 33,
   "metadata": {},
   "outputs": [],
   "source": [
    "df1[\"cities\"]  = pd.Series([[\"Nairobi\", \"Mombasa\"], [\"Lagos\", \"Nigeria\"], [\"Cape Town\", \"Johannesburg\"]])"
   ]
  },
  {
   "source": [
    "Adding multiple columns using the assign function"
   ],
   "cell_type": "markdown",
   "metadata": {}
  },
  {
   "cell_type": "code",
   "execution_count": 34,
   "metadata": {},
   "outputs": [],
   "source": [
    "df1 = df1.assign(\n",
    "    adult_viewers = pd.Series([500000, 1000000, 750000]),\n",
    "    aged_viewers = pd.Series([200000, 400000, 300000]),\n",
    "    young_viewers = pd.Series([1000000, 2000000, 3500000])\n",
    ")"
   ]
  },
  {
   "cell_type": "code",
   "execution_count": 35,
   "metadata": {},
   "outputs": [
    {
     "output_type": "execute_result",
     "data": {
      "text/plain": [
       "   Category                     cities  adult_viewers  aged_viewers  \\\n",
       "0         1         [Nairobi, Mombasa]         500000        200000   \n",
       "1         2           [Lagos, Nigeria]        1000000        400000   \n",
       "2         3  [Cape Town, Johannesburg]         750000        300000   \n",
       "\n",
       "   young_viewers  \n",
       "0        1000000  \n",
       "1        2000000  \n",
       "2        3500000  "
      ],
      "text/html": "<div>\n<style scoped>\n    .dataframe tbody tr th:only-of-type {\n        vertical-align: middle;\n    }\n\n    .dataframe tbody tr th {\n        vertical-align: top;\n    }\n\n    .dataframe thead th {\n        text-align: right;\n    }\n</style>\n<table border=\"1\" class=\"dataframe\">\n  <thead>\n    <tr style=\"text-align: right;\">\n      <th></th>\n      <th>Category</th>\n      <th>cities</th>\n      <th>adult_viewers</th>\n      <th>aged_viewers</th>\n      <th>young_viewers</th>\n    </tr>\n  </thead>\n  <tbody>\n    <tr>\n      <th>0</th>\n      <td>1</td>\n      <td>[Nairobi, Mombasa]</td>\n      <td>500000</td>\n      <td>200000</td>\n      <td>1000000</td>\n    </tr>\n    <tr>\n      <th>1</th>\n      <td>2</td>\n      <td>[Lagos, Nigeria]</td>\n      <td>1000000</td>\n      <td>400000</td>\n      <td>2000000</td>\n    </tr>\n    <tr>\n      <th>2</th>\n      <td>3</td>\n      <td>[Cape Town, Johannesburg]</td>\n      <td>750000</td>\n      <td>300000</td>\n      <td>3500000</td>\n    </tr>\n  </tbody>\n</table>\n</div>"
     },
     "metadata": {},
     "execution_count": 35
    }
   ],
   "source": [
    "df1"
   ]
  },
  {
   "source": [
    "To add a new row we use the append function"
   ],
   "cell_type": "markdown",
   "metadata": {}
  },
  {
   "cell_type": "code",
   "execution_count": 38,
   "metadata": {},
   "outputs": [],
   "source": [
    "df1 = df1.append(\n",
    "    {\n",
    "        'cities': [\"Kolkata\", \"Hyderabad\"],\n",
    "        'adult_viewers': 2000000,\n",
    "        'aged_viewers': 2000000,\n",
    "        'young_viewers': 1500000\n",
    "    },\n",
    "    ignore_index =True\n",
    " )"
   ]
  },
  {
   "cell_type": "code",
   "execution_count": 39,
   "metadata": {},
   "outputs": [
    {
     "output_type": "execute_result",
     "data": {
      "text/plain": [
       "   Category                     cities  adult_viewers  aged_viewers  \\\n",
       "0       1.0         [Nairobi, Mombasa]         500000        200000   \n",
       "1       2.0           [Lagos, Nigeria]        1000000        400000   \n",
       "2       3.0  [Cape Town, Johannesburg]         750000        300000   \n",
       "3       NaN       [Kolkata, Hyderabad]        2000000       2000000   \n",
       "\n",
       "   young_viewers  \n",
       "0        1000000  \n",
       "1        2000000  \n",
       "2        3500000  \n",
       "3        1500000  "
      ],
      "text/html": "<div>\n<style scoped>\n    .dataframe tbody tr th:only-of-type {\n        vertical-align: middle;\n    }\n\n    .dataframe tbody tr th {\n        vertical-align: top;\n    }\n\n    .dataframe thead th {\n        text-align: right;\n    }\n</style>\n<table border=\"1\" class=\"dataframe\">\n  <thead>\n    <tr style=\"text-align: right;\">\n      <th></th>\n      <th>Category</th>\n      <th>cities</th>\n      <th>adult_viewers</th>\n      <th>aged_viewers</th>\n      <th>young_viewers</th>\n    </tr>\n  </thead>\n  <tbody>\n    <tr>\n      <th>0</th>\n      <td>1.0</td>\n      <td>[Nairobi, Mombasa]</td>\n      <td>500000</td>\n      <td>200000</td>\n      <td>1000000</td>\n    </tr>\n    <tr>\n      <th>1</th>\n      <td>2.0</td>\n      <td>[Lagos, Nigeria]</td>\n      <td>1000000</td>\n      <td>400000</td>\n      <td>2000000</td>\n    </tr>\n    <tr>\n      <th>2</th>\n      <td>3.0</td>\n      <td>[Cape Town, Johannesburg]</td>\n      <td>750000</td>\n      <td>300000</td>\n      <td>3500000</td>\n    </tr>\n    <tr>\n      <th>3</th>\n      <td>NaN</td>\n      <td>[Kolkata, Hyderabad]</td>\n      <td>2000000</td>\n      <td>2000000</td>\n      <td>1500000</td>\n    </tr>\n  </tbody>\n</table>\n</div>"
     },
     "metadata": {},
     "execution_count": 39
    }
   ],
   "source": [
    "df1.head()"
   ]
  },
  {
   "source": [
    "To duplicate df1 and concatenate"
   ],
   "cell_type": "markdown",
   "metadata": {}
  },
  {
   "cell_type": "code",
   "execution_count": 41,
   "metadata": {},
   "outputs": [],
   "source": [
    "df2 = pd.concat([df1, df1], sort=False)"
   ]
  },
  {
   "cell_type": "code",
   "execution_count": 42,
   "metadata": {},
   "outputs": [
    {
     "output_type": "execute_result",
     "data": {
      "text/plain": [
       "   Category                     cities  adult_viewers  aged_viewers  \\\n",
       "0       1.0         [Nairobi, Mombasa]         500000        200000   \n",
       "1       2.0           [Lagos, Nigeria]        1000000        400000   \n",
       "2       3.0  [Cape Town, Johannesburg]         750000        300000   \n",
       "3       NaN       [Kolkata, Hyderabad]        2000000       2000000   \n",
       "0       1.0         [Nairobi, Mombasa]         500000        200000   \n",
       "1       2.0           [Lagos, Nigeria]        1000000        400000   \n",
       "2       3.0  [Cape Town, Johannesburg]         750000        300000   \n",
       "3       NaN       [Kolkata, Hyderabad]        2000000       2000000   \n",
       "\n",
       "   young_viewers  \n",
       "0        1000000  \n",
       "1        2000000  \n",
       "2        3500000  \n",
       "3        1500000  \n",
       "0        1000000  \n",
       "1        2000000  \n",
       "2        3500000  \n",
       "3        1500000  "
      ],
      "text/html": "<div>\n<style scoped>\n    .dataframe tbody tr th:only-of-type {\n        vertical-align: middle;\n    }\n\n    .dataframe tbody tr th {\n        vertical-align: top;\n    }\n\n    .dataframe thead th {\n        text-align: right;\n    }\n</style>\n<table border=\"1\" class=\"dataframe\">\n  <thead>\n    <tr style=\"text-align: right;\">\n      <th></th>\n      <th>Category</th>\n      <th>cities</th>\n      <th>adult_viewers</th>\n      <th>aged_viewers</th>\n      <th>young_viewers</th>\n    </tr>\n  </thead>\n  <tbody>\n    <tr>\n      <th>0</th>\n      <td>1.0</td>\n      <td>[Nairobi, Mombasa]</td>\n      <td>500000</td>\n      <td>200000</td>\n      <td>1000000</td>\n    </tr>\n    <tr>\n      <th>1</th>\n      <td>2.0</td>\n      <td>[Lagos, Nigeria]</td>\n      <td>1000000</td>\n      <td>400000</td>\n      <td>2000000</td>\n    </tr>\n    <tr>\n      <th>2</th>\n      <td>3.0</td>\n      <td>[Cape Town, Johannesburg]</td>\n      <td>750000</td>\n      <td>300000</td>\n      <td>3500000</td>\n    </tr>\n    <tr>\n      <th>3</th>\n      <td>NaN</td>\n      <td>[Kolkata, Hyderabad]</td>\n      <td>2000000</td>\n      <td>2000000</td>\n      <td>1500000</td>\n    </tr>\n    <tr>\n      <th>0</th>\n      <td>1.0</td>\n      <td>[Nairobi, Mombasa]</td>\n      <td>500000</td>\n      <td>200000</td>\n      <td>1000000</td>\n    </tr>\n    <tr>\n      <th>1</th>\n      <td>2.0</td>\n      <td>[Lagos, Nigeria]</td>\n      <td>1000000</td>\n      <td>400000</td>\n      <td>2000000</td>\n    </tr>\n    <tr>\n      <th>2</th>\n      <td>3.0</td>\n      <td>[Cape Town, Johannesburg]</td>\n      <td>750000</td>\n      <td>300000</td>\n      <td>3500000</td>\n    </tr>\n    <tr>\n      <th>3</th>\n      <td>NaN</td>\n      <td>[Kolkata, Hyderabad]</td>\n      <td>2000000</td>\n      <td>2000000</td>\n      <td>1500000</td>\n    </tr>\n  </tbody>\n</table>\n</div>"
     },
     "metadata": {},
     "execution_count": 42
    }
   ],
   "source": [
    "df2"
   ]
  },
  {
   "source": [
    "To delete a row:\n"
   ],
   "cell_type": "markdown",
   "metadata": {}
  },
  {
   "cell_type": "code",
   "execution_count": 43,
   "metadata": {},
   "outputs": [
    {
     "output_type": "execute_result",
     "data": {
      "text/plain": [
       "   Category                     cities  adult_viewers  aged_viewers  \\\n",
       "0       1.0         [Nairobi, Mombasa]         500000        200000   \n",
       "1       2.0           [Lagos, Nigeria]        1000000        400000   \n",
       "2       3.0  [Cape Town, Johannesburg]         750000        300000   \n",
       "\n",
       "   young_viewers  \n",
       "0        1000000  \n",
       "1        2000000  \n",
       "2        3500000  "
      ],
      "text/html": "<div>\n<style scoped>\n    .dataframe tbody tr th:only-of-type {\n        vertical-align: middle;\n    }\n\n    .dataframe tbody tr th {\n        vertical-align: top;\n    }\n\n    .dataframe thead th {\n        text-align: right;\n    }\n</style>\n<table border=\"1\" class=\"dataframe\">\n  <thead>\n    <tr style=\"text-align: right;\">\n      <th></th>\n      <th>Category</th>\n      <th>cities</th>\n      <th>adult_viewers</th>\n      <th>aged_viewers</th>\n      <th>young_viewers</th>\n    </tr>\n  </thead>\n  <tbody>\n    <tr>\n      <th>0</th>\n      <td>1.0</td>\n      <td>[Nairobi, Mombasa]</td>\n      <td>500000</td>\n      <td>200000</td>\n      <td>1000000</td>\n    </tr>\n    <tr>\n      <th>1</th>\n      <td>2.0</td>\n      <td>[Lagos, Nigeria]</td>\n      <td>1000000</td>\n      <td>400000</td>\n      <td>2000000</td>\n    </tr>\n    <tr>\n      <th>2</th>\n      <td>3.0</td>\n      <td>[Cape Town, Johannesburg]</td>\n      <td>750000</td>\n      <td>300000</td>\n      <td>3500000</td>\n    </tr>\n  </tbody>\n</table>\n</div>"
     },
     "metadata": {},
     "execution_count": 43
    }
   ],
   "source": [
    "df1 = df1.drop([3])\n",
    "df1"
   ]
  },
  {
   "source": [
    "To delete a column:"
   ],
   "cell_type": "markdown",
   "metadata": {}
  },
  {
   "cell_type": "code",
   "execution_count": 45,
   "metadata": {},
   "outputs": [
    {
     "output_type": "execute_result",
     "data": {
      "text/plain": [
       "   Category                     cities  adult_viewers  young_viewers\n",
       "0       1.0         [Nairobi, Mombasa]         500000        1000000\n",
       "1       2.0           [Lagos, Nigeria]        1000000        2000000\n",
       "2       3.0  [Cape Town, Johannesburg]         750000        3500000"
      ],
      "text/html": "<div>\n<style scoped>\n    .dataframe tbody tr th:only-of-type {\n        vertical-align: middle;\n    }\n\n    .dataframe tbody tr th {\n        vertical-align: top;\n    }\n\n    .dataframe thead th {\n        text-align: right;\n    }\n</style>\n<table border=\"1\" class=\"dataframe\">\n  <thead>\n    <tr style=\"text-align: right;\">\n      <th></th>\n      <th>Category</th>\n      <th>cities</th>\n      <th>adult_viewers</th>\n      <th>young_viewers</th>\n    </tr>\n  </thead>\n  <tbody>\n    <tr>\n      <th>0</th>\n      <td>1.0</td>\n      <td>[Nairobi, Mombasa]</td>\n      <td>500000</td>\n      <td>1000000</td>\n    </tr>\n    <tr>\n      <th>1</th>\n      <td>2.0</td>\n      <td>[Lagos, Nigeria]</td>\n      <td>1000000</td>\n      <td>2000000</td>\n    </tr>\n    <tr>\n      <th>2</th>\n      <td>3.0</td>\n      <td>[Cape Town, Johannesburg]</td>\n      <td>750000</td>\n      <td>3500000</td>\n    </tr>\n  </tbody>\n</table>\n</div>"
     },
     "metadata": {},
     "execution_count": 45
    }
   ],
   "source": [
    "df1 = df1.drop([\"aged_viewers\"], axis=1)\n",
    "df1"
   ]
  },
  {
   "source": [
    "We can chain functions as follows(dropping the cities column and dropping duplicates)"
   ],
   "cell_type": "markdown",
   "metadata": {}
  },
  {
   "cell_type": "code",
   "execution_count": 46,
   "metadata": {},
   "outputs": [
    {
     "output_type": "execute_result",
     "data": {
      "text/plain": [
       "   Category  adult_viewers  aged_viewers  young_viewers\n",
       "0       1.0         500000        200000        1000000\n",
       "1       2.0        1000000        400000        2000000\n",
       "2       3.0         750000        300000        3500000\n",
       "3       NaN        2000000       2000000        1500000"
      ],
      "text/html": "<div>\n<style scoped>\n    .dataframe tbody tr th:only-of-type {\n        vertical-align: middle;\n    }\n\n    .dataframe tbody tr th {\n        vertical-align: top;\n    }\n\n    .dataframe thead th {\n        text-align: right;\n    }\n</style>\n<table border=\"1\" class=\"dataframe\">\n  <thead>\n    <tr style=\"text-align: right;\">\n      <th></th>\n      <th>Category</th>\n      <th>adult_viewers</th>\n      <th>aged_viewers</th>\n      <th>young_viewers</th>\n    </tr>\n  </thead>\n  <tbody>\n    <tr>\n      <th>0</th>\n      <td>1.0</td>\n      <td>500000</td>\n      <td>200000</td>\n      <td>1000000</td>\n    </tr>\n    <tr>\n      <th>1</th>\n      <td>2.0</td>\n      <td>1000000</td>\n      <td>400000</td>\n      <td>2000000</td>\n    </tr>\n    <tr>\n      <th>2</th>\n      <td>3.0</td>\n      <td>750000</td>\n      <td>300000</td>\n      <td>3500000</td>\n    </tr>\n    <tr>\n      <th>3</th>\n      <td>NaN</td>\n      <td>2000000</td>\n      <td>2000000</td>\n      <td>1500000</td>\n    </tr>\n  </tbody>\n</table>\n</div>"
     },
     "metadata": {},
     "execution_count": 46
    }
   ],
   "source": [
    "df2 = df2.drop([\"cities\"], axis=1).drop_duplicates()\n",
    "df2"
   ]
  },
  {
   "source": [
    "Performing operations on the dataframe"
   ],
   "cell_type": "markdown",
   "metadata": {}
  },
  {
   "cell_type": "code",
   "execution_count": 48,
   "metadata": {},
   "outputs": [
    {
     "output_type": "execute_result",
     "data": {
      "text/plain": [
       "   Category  adult_viewers  aged_viewers  young_viewers\n",
       "0       1.0         500000        200000        1000000\n",
       "1       2.0        1000000        400000        2000000\n",
       "2       3.0         750000        300000        3500000\n",
       "3       2.0        2000000       2000000        1500000"
      ],
      "text/html": "<div>\n<style scoped>\n    .dataframe tbody tr th:only-of-type {\n        vertical-align: middle;\n    }\n\n    .dataframe tbody tr th {\n        vertical-align: top;\n    }\n\n    .dataframe thead th {\n        text-align: right;\n    }\n</style>\n<table border=\"1\" class=\"dataframe\">\n  <thead>\n    <tr style=\"text-align: right;\">\n      <th></th>\n      <th>Category</th>\n      <th>adult_viewers</th>\n      <th>aged_viewers</th>\n      <th>young_viewers</th>\n    </tr>\n  </thead>\n  <tbody>\n    <tr>\n      <th>0</th>\n      <td>1.0</td>\n      <td>500000</td>\n      <td>200000</td>\n      <td>1000000</td>\n    </tr>\n    <tr>\n      <th>1</th>\n      <td>2.0</td>\n      <td>1000000</td>\n      <td>400000</td>\n      <td>2000000</td>\n    </tr>\n    <tr>\n      <th>2</th>\n      <td>3.0</td>\n      <td>750000</td>\n      <td>300000</td>\n      <td>3500000</td>\n    </tr>\n    <tr>\n      <th>3</th>\n      <td>2.0</td>\n      <td>2000000</td>\n      <td>2000000</td>\n      <td>1500000</td>\n    </tr>\n  </tbody>\n</table>\n</div>"
     },
     "metadata": {},
     "execution_count": 48
    }
   ],
   "source": [
    "df2 = df2.fillna(df2.mean())\n",
    "df2"
   ]
  },
  {
   "cell_type": "code",
   "execution_count": 49,
   "metadata": {},
   "outputs": [
    {
     "output_type": "execute_result",
     "data": {
      "text/plain": [
       "   Category  adult_viewers  aged_viewers  young_viewers  viewers\n",
       "0       1.0         500000        200000        1000000  1700000\n",
       "1       2.0        1000000        400000        2000000  3400000\n",
       "2       3.0         750000        300000        3500000  4550000\n",
       "3       2.0        2000000       2000000        1500000  5500000"
      ],
      "text/html": "<div>\n<style scoped>\n    .dataframe tbody tr th:only-of-type {\n        vertical-align: middle;\n    }\n\n    .dataframe tbody tr th {\n        vertical-align: top;\n    }\n\n    .dataframe thead th {\n        text-align: right;\n    }\n</style>\n<table border=\"1\" class=\"dataframe\">\n  <thead>\n    <tr style=\"text-align: right;\">\n      <th></th>\n      <th>Category</th>\n      <th>adult_viewers</th>\n      <th>aged_viewers</th>\n      <th>young_viewers</th>\n      <th>viewers</th>\n    </tr>\n  </thead>\n  <tbody>\n    <tr>\n      <th>0</th>\n      <td>1.0</td>\n      <td>500000</td>\n      <td>200000</td>\n      <td>1000000</td>\n      <td>1700000</td>\n    </tr>\n    <tr>\n      <th>1</th>\n      <td>2.0</td>\n      <td>1000000</td>\n      <td>400000</td>\n      <td>2000000</td>\n      <td>3400000</td>\n    </tr>\n    <tr>\n      <th>2</th>\n      <td>3.0</td>\n      <td>750000</td>\n      <td>300000</td>\n      <td>3500000</td>\n      <td>4550000</td>\n    </tr>\n    <tr>\n      <th>3</th>\n      <td>2.0</td>\n      <td>2000000</td>\n      <td>2000000</td>\n      <td>1500000</td>\n      <td>5500000</td>\n    </tr>\n  </tbody>\n</table>\n</div>"
     },
     "metadata": {},
     "execution_count": 49
    }
   ],
   "source": [
    "df2[\"viewers\"] = df2[\"adult_viewers\"] + df2[\"aged_viewers\"] + df2[\"young_viewers\"]\n",
    "df2"
   ]
  },
  {
   "cell_type": "code",
   "execution_count": 50,
   "metadata": {},
   "outputs": [
    {
     "output_type": "execute_result",
     "data": {
      "text/plain": [
       "   Category  adult_viewers  aged_viewers  young_viewers  viewers  \\\n",
       "0       1.0         500000        200000        1000000  1700000   \n",
       "1       2.0        1000000        400000        2000000  3400000   \n",
       "2       3.0         750000        300000        3500000  4550000   \n",
       "3       2.0        2000000       2000000        1500000  5500000   \n",
       "\n",
       "   expected_clicks  \n",
       "0          51000.0  \n",
       "1         102000.0  \n",
       "2         136500.0  \n",
       "3         165000.0  "
      ],
      "text/html": "<div>\n<style scoped>\n    .dataframe tbody tr th:only-of-type {\n        vertical-align: middle;\n    }\n\n    .dataframe tbody tr th {\n        vertical-align: top;\n    }\n\n    .dataframe thead th {\n        text-align: right;\n    }\n</style>\n<table border=\"1\" class=\"dataframe\">\n  <thead>\n    <tr style=\"text-align: right;\">\n      <th></th>\n      <th>Category</th>\n      <th>adult_viewers</th>\n      <th>aged_viewers</th>\n      <th>young_viewers</th>\n      <th>viewers</th>\n      <th>expected_clicks</th>\n    </tr>\n  </thead>\n  <tbody>\n    <tr>\n      <th>0</th>\n      <td>1.0</td>\n      <td>500000</td>\n      <td>200000</td>\n      <td>1000000</td>\n      <td>1700000</td>\n      <td>51000.0</td>\n    </tr>\n    <tr>\n      <th>1</th>\n      <td>2.0</td>\n      <td>1000000</td>\n      <td>400000</td>\n      <td>2000000</td>\n      <td>3400000</td>\n      <td>102000.0</td>\n    </tr>\n    <tr>\n      <th>2</th>\n      <td>3.0</td>\n      <td>750000</td>\n      <td>300000</td>\n      <td>3500000</td>\n      <td>4550000</td>\n      <td>136500.0</td>\n    </tr>\n    <tr>\n      <th>3</th>\n      <td>2.0</td>\n      <td>2000000</td>\n      <td>2000000</td>\n      <td>1500000</td>\n      <td>5500000</td>\n      <td>165000.0</td>\n    </tr>\n  </tbody>\n</table>\n</div>"
     },
     "metadata": {},
     "execution_count": 50
    }
   ],
   "source": [
    "df2[\"expected_clicks\"] = 0.03*df2[\"viewers\"]\n",
    "df2"
   ]
  },
  {
   "cell_type": "code",
   "execution_count": null,
   "metadata": {},
   "outputs": [],
   "source": []
  }
 ]
}